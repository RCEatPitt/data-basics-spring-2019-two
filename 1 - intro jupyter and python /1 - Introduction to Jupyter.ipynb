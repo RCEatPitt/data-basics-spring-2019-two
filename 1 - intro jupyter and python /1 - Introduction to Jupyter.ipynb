{
 "cells": [
  {
   "cell_type": "markdown",
   "metadata": {},
   "source": [
    "# Introduction to Jupyter\n",
    "\n",
    "- Why Jupyter\n",
    "- Introduction to JupyterLab\n",
    "- Anatomy of a Jupyter Notebook"
   ]
  },
  {
   "cell_type": "markdown",
   "metadata": {},
   "source": [
    "---"
   ]
  },
  {
   "cell_type": "markdown",
   "metadata": {},
   "source": [
    "# Why Jupyter\n",
    "\n",
    "- A laboratory notebook for computational science\n",
    "- An **interactive computing environment** that enables users to author *computational notebooks* that include: \n",
    "    - Live code\n",
    "    - Interactive widgets\n",
    "    - Plots\n",
    "    - Narrative text\n",
    "    - Equations\n",
    "    - Images\n",
    "    - Video\n",
    "- Notebooks provide a **complete and self-contained record of a computation** that can be converted to various formats and shared with others\n",
    "\n",
    "\n",
    "## Bespoke Code\n",
    "\n",
    "- The code that is specific to your project\n",
    "- Not meant for general purpose libraries or modules\n",
    "- Code that is only meant to run once\n",
    "\n",
    "## Sharing and Reproducibility\n",
    "\n",
    "- You can preserve your workflow in Jupyter\n",
    "- Save the code and the output of that code \n",
    "- Notebooks can be shared as documents \n",
    "- Publishable notebooks?\n",
    "\n",
    "## No Silver Bullet\n",
    "\n",
    "- Notebooks contain just the code, not the data or software dependencies\n",
    "- Some people don't like this style of working \n",
    "- Encourages \"bad\" coding habits...from the perspective of software engineering\n",
    "- Jupyter is a technological solution to what is actually a social problem\n",
    "    - Which means Jupyter alone won't solve any problems\n",
    "    \n",
    "## Jupyter Architecture\n",
    "\n",
    "![Jupyter Architecture Diagram](images/jupyter-architecture.png)\n",
    "\n",
    "\n",
    "\n",
    "* **The JupyterLab & Notebook Web Server**: An interactive web application for writing and running code interactively and authoring notebook documents. Runs in the browser and connects to a web server running locally or remotely.\n",
    "* **Kernels**: Separate processes started by the notebook web application that runs users' code in a given language and returns output back to the notebook web application. The kernel also handles things like computations for interactive widgets, tab completion and introspection. \n",
    "* **Notebook documents**: Self-contained documents that contain a representation of all content visible in the notebook web application, including inputs and outputs of the computations, narrative text, equations, images, and rich media representations of objects."
   ]
  },
  {
   "cell_type": "markdown",
   "metadata": {},
   "source": [
    "---"
   ]
  },
  {
   "cell_type": "markdown",
   "metadata": {},
   "source": [
    "# JupyterLab \n",
    "\n",
    "- A Interactive Development Environment for Data Science.\n",
    "- A Web application that is still in development, but ready to use!\n",
    "- Fully extensible (if you know Javascript)\n",
    "* **Edit code in the browser**, with automatic syntax highlighting, indentation, and tab completion/introspection.\n",
    "* **Run code from the browser**, with the results of computations attached to the code which generated them.\n",
    "* See the results of computations with **rich media representations**, such as HTML, LaTeX, PNG, SVG, PDF, etc.\n",
    "* Create and use **interactive JavaScript widgets**, which bind interactive user interface controls and visualizations to reactive kernel side computations.\n",
    "* Author **narrative text** using the [Markdown](https://daringfireball.net/projects/markdown/) markup language.\n",
    "* Build **hierarchical documents** that are organized into sections with different levels of headings.\n",
    "* Include mathematical equations using **LaTeX syntax in Markdown**, which are rendered in-browser by [MathJax](http://www.mathjax.org/).\n",
    "\n",
    "\n",
    "## File Browser\n",
    "\n",
    "- Shows the filesystem within which Juptyer is running.\n",
    "- Could be your local machine or a remote system, depending on where you are running Jupyter\n",
    "\n",
    "## Terminal\n",
    "\n",
    "- Use the terminal from the browser\n",
    "- Easier than SSH'ing into a remote machine for beginners\n",
    "- Command line is very powerful\n",
    "    - Run scripts, install software, manage files\n",
    "    \n",
    "\n",
    "## Console\n",
    "\n",
    "- An interactive interpreter for Python (or other languages)\n",
    "- Read, Evaluate, Print, Loop (REPL)\n",
    "- Useful for testing snippets of code that you don't need to save\n",
    "\n",
    "## Text Editor\n",
    "\n",
    "- JupyterLab contains a plain text editor\n",
    "- Runs in the browser, edits files on the server\n",
    "- Can also execute code when connected to a Console\n",
    "\n",
    "## Notebook\n",
    "\n",
    "- Notebooks are computational documents that blend text, code, and data\n",
    "- It is like having the Text Editor and the Console together\n",
    "\n",
    "## Kernel\n",
    "\n",
    "- Executable environent *behind* the Notebook (and Console)\n",
    "- This design is what allows Jupyter to support any language\n",
    "- One kernel per notebook. One language per kernel."
   ]
  },
  {
   "cell_type": "markdown",
   "metadata": {},
   "source": [
    "---"
   ]
  },
  {
   "cell_type": "markdown",
   "metadata": {},
   "source": [
    "# Anatomy of a Jupyter Notebook\n",
    "\n",
    "\n",
    "* Go to File -> New -> Notebook\n",
    "* This is a Blank Notebook Document\n",
    "\n",
    "\n",
    "## Cells\n",
    "\n",
    "- Notebooks are composed of a series of cells.\n",
    "- Cells can be *executed* causing different behaviors depending on the type of cell.\n",
    "- There are three kinds of cells:\n",
    "    - Markdown Cells \n",
    "    - Raw Cells \n",
    "    - Code Cells \n",
    "\n",
    "### Markdown Cells\n",
    "\n",
    "- For writing text that will be formatted as HTML using *markdown*\n",
    "- Markdown is a lightweight, plain text format for writing HTML\n",
    "- Whitespace is lost, which is why there are...\n",
    "\n",
    "### Raw Cells\n",
    "\n",
    "- For putting plain text that won't be formatted.\n",
    "- Whitespace is preserved, unlike Markdown cells where it is ignored\n",
    "\n",
    "\n",
    "### Code Cells\n",
    "\n",
    "- The **Funnest Cell**\n",
    "- For writing computer code that will be executed or interpreted.\n",
    "- Click on the play button or hit *shift-enter* to execute the code\n",
    "\n"
   ]
  },
  {
   "cell_type": "markdown",
   "metadata": {},
   "source": [
    "## Authoring Jupyter Notebooks\n",
    "\n",
    "* You author notebooks by creating a series of cells\n",
    "* Cells can be intermixed so you can have text intermixed with code\n",
    "    * Like code comments on steroids\n",
    "\n",
    "### Modal Editor\n",
    "\n",
    "* There are two modes, *edit mode* and *command mode*\n",
    "\n",
    "#### Edit Mode\n",
    "\n",
    "* When you can edit a cell like a normal text editor.\n",
    "* This is when you want to write Markdown or Python in the cell.\n",
    "    \n",
    "#### Command Mode\n",
    "\n",
    "* For manipulating the Notebook as a whole.\n",
    "* You can't edit individual cells in this mode.\n",
    "* For moving, copying, and executing \n",
    "\n",
    "* When in doubt:\n",
    "    * ESCAPE to get to COMMAND MODE\n",
    "    * DOUBLECLICK to get into EDIT MODE\n",
    "\n",
    "* Modes have different keyboard shortcuts.\n",
    "    * Don't hit DD when in command mode, it deletes the cell!\n",
    "* Cells can be selected (see the blue bar to the left)"
   ]
  },
  {
   "cell_type": "markdown",
   "metadata": {},
   "source": [
    "## Running Code\n",
    "\n",
    "Run a code cell using `Shift-Enter` or pressing the <span class=\"jp-RunIcon jp-Icon jp-Icon-16 jp-ToolbarButtonComponent-icon\"></span> button in the toolbar above:"
   ]
  },
  {
   "cell_type": "code",
   "execution_count": null,
   "metadata": {},
   "outputs": [],
   "source": [
    "a = 10"
   ]
  },
  {
   "cell_type": "markdown",
   "metadata": {},
   "source": [
    "* State is preserved across cells (lives at the Notebook level)."
   ]
  },
  {
   "cell_type": "code",
   "execution_count": null,
   "metadata": {},
   "outputs": [],
   "source": [
    "print(a)"
   ]
  },
  {
   "cell_type": "markdown",
   "metadata": {},
   "source": [
    "* You can also run cells out-of-order\n",
    "* So be careful how you structure your notebooks!\n",
    "* It is good practice to create notebooks that can be executed in order"
   ]
  },
  {
   "cell_type": "code",
   "execution_count": null,
   "metadata": {},
   "outputs": [],
   "source": [
    "a = 100"
   ]
  },
  {
   "cell_type": "markdown",
   "metadata": {},
   "source": [
    "There are two other keyboard shortcuts for running code:\n",
    "\n",
    "* `Alt-Enter` runs the current cell and inserts a new one below.\n",
    "* `Ctrl-Enter` run the current cell and enters command mode.\n",
    "\n",
    "\n",
    "\n",
    "* There is a \"Run All Cells\" command\n",
    "* See the \"Run\" Menu above"
   ]
  },
  {
   "cell_type": "markdown",
   "metadata": {},
   "source": [
    "## Markdown Cells\n",
    "\n",
    "Text can be added to Jupyter Notebooks using Markdown cells.  Markdown is a popular markup language that is a superset of HTML. Its specification can be found here:\n",
    "\n",
    "<http://daringfireball.net/projects/markdown/>"
   ]
  },
  {
   "cell_type": "markdown",
   "metadata": {},
   "source": [
    "## Markdown basics"
   ]
  },
  {
   "cell_type": "markdown",
   "metadata": {},
   "source": [
    "You can make text *italic* or **bold**."
   ]
  },
  {
   "cell_type": "markdown",
   "metadata": {},
   "source": [
    "You can build nested itemized or enumerated lists:\n",
    "\n",
    "* One\n",
    "    - Sublist\n",
    "        - This\n",
    "  - Sublist\n",
    "        - That\n",
    "        - The other thing\n",
    "* Two\n",
    "  - Sublist\n",
    "* Three\n",
    "  - Sublist\n",
    "\n",
    "Now another list:\n",
    "\n",
    "1. Here we go\n",
    "    1. Sublist\n",
    "    2. Sublist\n",
    "2. There we go\n",
    "3. Now this"
   ]
  },
  {
   "cell_type": "markdown",
   "metadata": {},
   "source": [
    "You can add horizontal rules:\n",
    "\n",
    "---"
   ]
  },
  {
   "cell_type": "markdown",
   "metadata": {},
   "source": [
    "Here is a blockquote:\n",
    "\n",
    "> Beautiful is better than ugly.\n",
    "> Explicit is better than implicit.\n",
    "> Simple is better than complex.\n",
    "> Complex is better than complicated.\n",
    "> Flat is better than nested.\n",
    "> Sparse is better than dense.\n",
    "> Readability counts.\n",
    "> Special cases aren't special enough to break the rules.\n",
    "> Although practicality beats purity.\n",
    "> Errors should never pass silently.\n",
    "> Unless explicitly silenced.\n",
    "> In the face of ambiguity, refuse the temptation to guess.\n",
    "> There should be one-- and preferably only one --obvious way to do it.\n",
    "> Although that way may not be obvious at first unless you're Dutch.\n",
    "> Now is better than never.\n",
    "> Although never is often better than *right* now.\n",
    "> If the implementation is hard to explain, it's a bad idea.\n",
    "> If the implementation is easy to explain, it may be a good idea.\n",
    "> Namespaces are one honking great idea -- let's do more of those!"
   ]
  },
  {
   "cell_type": "markdown",
   "metadata": {},
   "source": [
    "And shorthand for links:\n",
    "\n",
    "[Jupyter's website](http://jupyter.org)"
   ]
  },
  {
   "cell_type": "markdown",
   "metadata": {},
   "source": [
    "### Headings"
   ]
  },
  {
   "cell_type": "markdown",
   "metadata": {},
   "source": [
    "You can add headings by starting a line with one (or multiple) `#` followed by a space, as in the following example:\n",
    "\n",
    "```\n",
    "# Heading 1\n",
    "# Heading 2\n",
    "## Heading 2.1\n",
    "## Heading 2.2\n",
    "```"
   ]
  },
  {
   "cell_type": "markdown",
   "metadata": {},
   "source": [
    "## Embedded code\n",
    "\n",
    "You can embed code meant for illustration instead of execution in Python:\n",
    "\n",
    "```python\n",
    "def f(x):\n",
    "    \"\"\"a docstring\"\"\"\n",
    "    return x**2\n",
    "```\n",
    "or other languages:\n",
    "\n",
    "```java\n",
    "if (i=0; i<n; i++) {\n",
    "  printf(\"hello %d\\n\", i);\n",
    "  x += 4;\n",
    "}\n",
    "```"
   ]
  },
  {
   "cell_type": "markdown",
   "metadata": {},
   "source": [
    "### LaTeX equations\n",
    "\n",
    "Courtesy of MathJax, you can include mathematical expressions both inline: \n",
    "$e^{i\\pi} + 1 = 0$  and displayed:\n",
    "\n",
    "$$e^x=\\sum_{i=0}^\\infty \\frac{1}{i!}x^i$$\n",
    "Inline expressions can be added by surrounding the latex code with `$`:\n",
    "```\n",
    "$e^{i\\pi} + 1 = 0$\n",
    "```\n",
    "\n",
    "Expressions on their own line are surrounded by `$$`:\n",
    "```latex\n",
    "$$e^x=\\sum_{i=0}^\\infty \\frac{1}{i!}x^i$$\n",
    "```"
   ]
  },
  {
   "cell_type": "markdown",
   "metadata": {},
   "source": [
    "## Rich Output\n",
    "\n",
    "- Running in the browser (vs. command line) means full expressive capability of HTML"
   ]
  },
  {
   "cell_type": "code",
   "execution_count": null,
   "metadata": {},
   "outputs": [],
   "source": [
    "# Render a plot inside the notebook\n",
    "%matplotlib inline\n",
    "import matplotlib.pyplot as plt\n",
    "import numpy as np\n",
    "\n",
    "x = np.linspace(0, 3*np.pi, 500)\n",
    "plt.plot(x, np.sin(x**2))\n",
    "plt.title('A simple chirp');"
   ]
  },
  {
   "cell_type": "markdown",
   "metadata": {},
   "source": [
    "---"
   ]
  },
  {
   "cell_type": "markdown",
   "metadata": {},
   "source": [
    "# Activity\n",
    "\n",
    "- Create a new notebook\n",
    "- Change the title\n",
    "- Make the first cell a Markdown cell and add some Markdown text\n",
    "- Create a code cell and enter `print(\"Hello World!\")` and execute the code cell."
   ]
  },
  {
   "cell_type": "markdown",
   "metadata": {},
   "source": [
    "# Congratulations, you are now all Jovyans!"
   ]
  }
 ],
 "metadata": {
  "kernelspec": {
   "display_name": "Python 3.7",
   "language": "python",
   "name": "python3"
  },
  "language_info": {
   "codemirror_mode": {
    "name": "ipython",
    "version": 3
   },
   "file_extension": ".py",
   "mimetype": "text/x-python",
   "name": "python",
   "nbconvert_exporter": "python",
   "pygments_lexer": "ipython3",
   "version": "3.7.0"
  }
 },
 "nbformat": 4,
 "nbformat_minor": 2
}
